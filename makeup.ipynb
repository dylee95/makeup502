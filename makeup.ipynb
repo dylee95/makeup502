{
 "cells": [
  {
   "cell_type": "code",
   "execution_count": 1,
   "id": "0450bff1-19c4-48a4-b7ed-90bc520b58c3",
   "metadata": {},
   "outputs": [],
   "source": [
    "import csv\n",
    "import json\n",
    "import sqlite3\n",
    "import pymongo\n",
    "from glob import glob\n",
    "from pprint import pprint\n",
    "from pymongo import MongoClient"
   ]
  },
  {
   "cell_type": "code",
   "execution_count": 2,
   "id": "e1fec7b1-f784-459b-9ab4-25b06ec2996f",
   "metadata": {},
   "outputs": [],
   "source": [
    "#QUERY THE SQLite DATABASE USING THE SQLITE PACKAGE\n",
    "import sqlite3\n",
    "files = \"superheroes.db\"\n",
    "conn = sqlite3.connect(files)\n",
    "cursor = conn.cursor()"
   ]
  },
  {
   "cell_type": "code",
   "execution_count": 3,
   "id": "d34691dc-1a4b-43e4-aa5c-996ba8808404",
   "metadata": {},
   "outputs": [],
   "source": [
    "#connect to MongoDB server\n",
    "client = MongoClient('localhost', 27017)"
   ]
  },
  {
   "cell_type": "code",
   "execution_count": 4,
   "id": "2abb8592-112a-4289-96aa-a3160101aa3c",
   "metadata": {},
   "outputs": [
    {
     "data": {
      "text/plain": [
       "['admin', 'config', 'local']"
      ]
     },
     "execution_count": 4,
     "metadata": {},
     "output_type": "execute_result"
    }
   ],
   "source": [
    "client.list_database_names()"
   ]
  },
  {
   "cell_type": "code",
   "execution_count": 7,
   "id": "4b519ead-9f2b-4148-920e-1a5250e361d9",
   "metadata": {},
   "outputs": [],
   "source": [
    "conn=pymongo.MongoClient()"
   ]
  },
  {
   "cell_type": "code",
   "execution_count": 10,
   "id": "76a627dc-d98f-4509-994b-d3bad5609bdb",
   "metadata": {},
   "outputs": [],
   "source": [
    "#create and access a database\n",
    "db = conn.mydb"
   ]
  },
  {
   "cell_type": "code",
   "execution_count": 38,
   "id": "b674d54e-4270-4ec4-9185-c8618ae35b00",
   "metadata": {},
   "outputs": [],
   "source": [
    "collection = db[\"movies\"]"
   ]
  },
  {
   "cell_type": "code",
   "execution_count": 39,
   "id": "03f32095-90fc-4d9a-9411-4ba610e98d60",
   "metadata": {},
   "outputs": [],
   "source": [
    "collection = db.my_collection"
   ]
  },
  {
   "cell_type": "code",
   "execution_count": 40,
   "id": "d83ac954-e398-4a37-b216-e9ad2522d747",
   "metadata": {},
   "outputs": [],
   "source": [
    "db = conn.superheroes"
   ]
  },
  {
   "cell_type": "code",
   "execution_count": 41,
   "id": "f33b07d8-c3c5-431b-b634-908c8eceac2f",
   "metadata": {},
   "outputs": [],
   "source": [
    "movies = db.movies"
   ]
  },
  {
   "cell_type": "code",
   "execution_count": 42,
   "id": "d480a7e6-9cb1-491e-b7d2-f0a14002ea71",
   "metadata": {},
   "outputs": [],
   "source": [
    "#insert data into MongoDB\n",
    "movies = {\n",
    "            \"title\":\"Iron Man\",\n",
    "            \"superheroes\": [\n",
    "                {\"name\": \"Iron Man\", \"age\": 42, \"gender\": \"M\"}\n",
    "            ]\n",
    "           }\n",
    "movies = {\n",
    "            \"title\":\"Iron Man 2\",\n",
    "            \"superheroes\": [\n",
    "                {\"name\": \"Iron Man\", \"age\": 42, \"gender\": \"M\"}\n",
    "            ]\n",
    "           }\n",
    "movies = {\n",
    "            \"title\":\"Iron Man 2\",\n",
    "            \"superheroes\": [\n",
    "                {\"name\": \"Black Widow\", \"age\": 33, \"gender\": \"F\"}\n",
    "            ]\n",
    "           }\n",
    "movies = {\n",
    "            \"title\":\"Iron Man 2\",\n",
    "            \"superheroes\": [\n",
    "                {\"name\": \"Nick Fury\", \"age\": 52, \"gender\": \"M\"}\n",
    "            ]\n",
    "           }\n",
    "movies = {\n",
    "            \"title\":\"Iron Man 3\",\n",
    "            \"superheroes\": [\n",
    "                {\"name\": \"Iron Man\", \"age\": 42, \"gender\": \"M\"}\n",
    "            ]\n",
    "           }\n",
    "movies = {\n",
    "            \"title\":\"Guardians of the Galaxy\",\n",
    "            \"superheroes\": [\n",
    "                {\"name\": \"Starlord\", \"age\": 30, \"gender\": \"M\"}\n",
    "            ]\n",
    "           }\n",
    "movies = {\n",
    "            \"title\":\"Ant-Man\",\n",
    "            \"superheroes\": [\n",
    "                {\"name\": \"Ant-Man\", \"age\": 36, \"gender\": \"M\"}\n",
    "            ]\n",
    "           }\n",
    "movies = {\n",
    "            \"title\":\"Deadpool\",\n",
    "            \"superheroes\": [\n",
    "                {\"name\": \"Deadpool\", \"age\": 32, \"gender\": \"M\"}\n",
    "            ]\n",
    "           }\n",
    "movies = {\n",
    "            \"title\":\"The Incredible Hulk\",\n",
    "            \"superheroes\": [\n",
    "                {\"name\": \"Hulk\", \"age\": 47, \"gender\": \"M\"}\n",
    "            ]\n",
    "           }\n",
    "movies = {\n",
    "            \"title\":\"Captain America: The First Avenger\",\n",
    "            \"superheroes\": [\n",
    "                {\"name\": \"Captain America\", \"age\": 87, \"gender\": \"M\"}\n",
    "            ]\n",
    "           }\n",
    "movies = {\n",
    "            \"title\":\"Captain America: The First Avenger\",\n",
    "            \"superheroes\": [\n",
    "                {\"name\": \"Nick Fury\", \"age\": 52, \"gender\": \"M\"}\n",
    "            ]\n",
    "           }\n",
    "movies = {\n",
    "            \"title\":\"The Avengers\",\n",
    "            \"superheroes\": [\n",
    "                {\"name\": \"Iron Man\", \"age\": 42, \"gender\": \"M\"}\n",
    "            ]\n",
    "           }\n",
    "movies = {\n",
    "            \"title\":\"The Avengers\",\n",
    "            \"superheroes\": [\n",
    "                {\"name\": \"Black Widow\", \"age\": 33, \"gender\": \"F\"}\n",
    "            ]\n",
    "           }\n",
    "movies = {\n",
    "            \"title\":\"The Avengers\",\n",
    "            \"superheroes\": [\n",
    "                {\"name\": \"Captain America\", \"age\": 87, \"gender\": \"M\"}\n",
    "            ]\n",
    "           }\n",
    "movies = {\n",
    "            \"title\":\"The Avengers\",\n",
    "            \"superheroes\": [\n",
    "                {\"name\": \"Hawkeye\", \"age\": 39, \"gender\": \"M\"}\n",
    "            ]\n",
    "           }\n",
    "movies = {\n",
    "            \"title\":\"The Avengers\",\n",
    "            \"superheroes\": [\n",
    "                {\"name\": \"Hulk\", \"age\": 47, \"gender\": \"M\"}\n",
    "            ]\n",
    "           }\n",
    "movies = {\n",
    "            \"title\":\"The Avengers\",\n",
    "            \"superheroes\": [\n",
    "                {\"name\": \"Nick Fury\", \"age\": 52, \"gender\": \"M\"}\n",
    "            ]\n",
    "           }"
   ]
  },
  {
   "cell_type": "code",
   "execution_count": 52,
   "id": "5ac3be9a-b38e-4f2e-a83d-d1095835c80f",
   "metadata": {},
   "outputs": [
    {
     "data": {
      "text/plain": [
       "<pymongo.cursor.Cursor at 0x2338e54b0d0>"
      ]
     },
     "execution_count": 52,
     "metadata": {},
     "output_type": "execute_result"
    }
   ],
   "source": [
    "#query MongoDB for movies that contain \"Nick Fury\"\n",
    "db.movies.find({\"name\": \"Nick Fury\"})"
   ]
  },
  {
   "cell_type": "code",
   "execution_count": 56,
   "id": "afe4609c-ca0a-4aa2-9206-dde49b85349c",
   "metadata": {},
   "outputs": [
    {
     "ename": "TypeError",
     "evalue": "'Collection' object is not callable. If you meant to call the 'find_three' method on a 'Collection' object it is failing because no such method exists.",
     "output_type": "error",
     "traceback": [
      "\u001b[1;31m---------------------------------------------------------------------------\u001b[0m",
      "\u001b[1;31mTypeError\u001b[0m                                 Traceback (most recent call last)",
      "\u001b[1;32m<ipython-input-56-d685236ee4fb>\u001b[0m in \u001b[0;36m<module>\u001b[1;34m\u001b[0m\n\u001b[1;32m----> 1\u001b[1;33m \u001b[0mcollection\u001b[0m\u001b[1;33m.\u001b[0m\u001b[0mfind_three\u001b[0m\u001b[1;33m(\u001b[0m\u001b[1;34m\"Nick Fury\"\u001b[0m\u001b[1;33m)\u001b[0m\u001b[1;33m\u001b[0m\u001b[1;33m\u001b[0m\u001b[0m\n\u001b[0m",
      "\u001b[1;32m~\\anaconda3\\lib\\site-packages\\pymongo\\collection.py\u001b[0m in \u001b[0;36m__call__\u001b[1;34m(self, *args, **kwargs)\u001b[0m\n\u001b[0;32m   2582\u001b[0m                             \u001b[1;34m\"exists.\"\u001b[0m \u001b[1;33m%\u001b[0m\u001b[1;33m\u001b[0m\u001b[1;33m\u001b[0m\u001b[0m\n\u001b[0;32m   2583\u001b[0m                             self.__name)\n\u001b[1;32m-> 2584\u001b[1;33m         raise TypeError(\"'Collection' object is not callable. If you meant to \"\n\u001b[0m\u001b[0;32m   2585\u001b[0m                         \u001b[1;34m\"call the '%s' method on a 'Collection' object it is \"\u001b[0m\u001b[1;33m\u001b[0m\u001b[1;33m\u001b[0m\u001b[0m\n\u001b[0;32m   2586\u001b[0m                         \u001b[1;34m\"failing because no such method exists.\"\u001b[0m \u001b[1;33m%\u001b[0m\u001b[1;33m\u001b[0m\u001b[1;33m\u001b[0m\u001b[0m\n",
      "\u001b[1;31mTypeError\u001b[0m: 'Collection' object is not callable. If you meant to call the 'find_three' method on a 'Collection' object it is failing because no such method exists."
     ]
    }
   ],
   "source": []
  }
 ],
 "metadata": {
  "kernelspec": {
   "display_name": "Python 3",
   "language": "python",
   "name": "python3"
  },
  "language_info": {
   "codemirror_mode": {
    "name": "ipython",
    "version": 3
   },
   "file_extension": ".py",
   "mimetype": "text/x-python",
   "name": "python",
   "nbconvert_exporter": "python",
   "pygments_lexer": "ipython3",
   "version": "3.8.8"
  }
 },
 "nbformat": 4,
 "nbformat_minor": 5
}
