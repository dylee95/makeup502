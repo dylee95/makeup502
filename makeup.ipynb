{
 "cells": [
  {
   "cell_type": "code",
   "execution_count": 2,
   "id": "6e7d6d58-5c42-402a-add2-5cf5f772921a",
   "metadata": {},
   "outputs": [],
   "source": [
    "import csv\n",
    "import json\n",
    "import sqlite3\n",
    "from glob import glob\n",
    "from pprint import pprint\n",
    "from pymongo import MongoClient"
   ]
  },
  {
   "cell_type": "code",
   "execution_count": 5,
   "id": "f677e485-e79c-48de-8181-dc945a984521",
   "metadata": {},
   "outputs": [],
   "source": [
    "from sqlite3 import Error"
   ]
  },
  {
   "cell_type": "code",
   "execution_count": 7,
   "id": "7a9656bd-d6dc-4bf0-8cd5-298fbbf7862e",
   "metadata": {},
   "outputs": [],
   "source": [
    "file = \"superheroes.db\"\n",
    "conn = sqlite3.connect(file)\n",
    "cursor = conn.cursor()"
   ]
  },
  {
   "cell_type": "code",
   "execution_count": 9,
   "id": "2a96bb21-700a-44d0-964d-1cc5691e1ff5",
   "metadata": {},
   "outputs": [],
   "source": [
    "#create a database connection to the SQLite database specified by the db_file\n",
    "def create_connection(db_file):\n",
    "    conn = None\n",
    "    try:\n",
    "        conn = sqlite3.connect(db_file)\n",
    "    except Error as e:\n",
    "        print(e)\n",
    "    return conn"
   ]
  },
  {
   "cell_type": "code",
   "execution_count": 10,
   "id": "94ce7b39-defa-4282-800b-4049a73b9687",
   "metadata": {},
   "outputs": [],
   "source": [
    "#query all rows in tasks table \n",
    "def select_all_tasks(conn):\n",
    "    cur = conn.cursor()\n",
    "    cur.execute(\"SELECT * FROM tasks\")\n",
    "    \n",
    "    rows = cur.fetchall()\n",
    "    \n",
    "    for row in rows:\n",
    "        print(row)"
   ]
  },
  {
   "cell_type": "code",
   "execution_count": 12,
   "id": "8281c0c0-87c3-4a22-b5d6-a29e90fd3586",
   "metadata": {},
   "outputs": [],
   "source": [
    "#query tasks by priority\n",
    "def select_task_by_priority(conn, priority):\n",
    "    cur = conn.cursor()\n",
    "    cur.execute(\"SELECT * FROM tasks WHERE priority=?\", (priority,))\n",
    "    \n",
    "    rows = cur.fetchall()\n",
    "    \n",
    "    for row in rows:\n",
    "        print(row)"
   ]
  },
  {
   "cell_type": "code",
   "execution_count": 19,
   "id": "3f7c403c-1757-42b0-b7ca-613651da307e",
   "metadata": {},
   "outputs": [
    {
     "ename": "NameError",
     "evalue": "name '_name_' is not defined",
     "output_type": "error",
     "traceback": [
      "\u001b[1;31m---------------------------------------------------------------------------\u001b[0m",
      "\u001b[1;31mNameError\u001b[0m                                 Traceback (most recent call last)",
      "\u001b[1;32m<ipython-input-19-839bc9d585dc>\u001b[0m in \u001b[0;36m<module>\u001b[1;34m\u001b[0m\n\u001b[0;32m     12\u001b[0m \u001b[1;33m\u001b[0m\u001b[0m\n\u001b[0;32m     13\u001b[0m \u001b[1;33m\u001b[0m\u001b[0m\n\u001b[1;32m---> 14\u001b[1;33m \u001b[1;32mif\u001b[0m \u001b[0m_name_\u001b[0m \u001b[1;33m==\u001b[0m \u001b[1;34m'_main_'\u001b[0m\u001b[1;33m:\u001b[0m\u001b[1;33m\u001b[0m\u001b[1;33m\u001b[0m\u001b[0m\n\u001b[0m\u001b[0;32m     15\u001b[0m     \u001b[0mmain\u001b[0m\u001b[1;33m(\u001b[0m\u001b[1;33m)\u001b[0m\u001b[1;33m\u001b[0m\u001b[1;33m\u001b[0m\u001b[0m\n",
      "\u001b[1;31mNameError\u001b[0m: name '_name_' is not defined"
     ]
    }
   ],
   "source": [
    "#create a database connection\n",
    "def main():\n",
    "    database = r\"New folder/superheroes.db\"\n",
    "    \n",
    "    conn = create_connection(database)\n",
    "    with conn:\n",
    "        print(\"1. Query task by priority:\")\n",
    "        select_task_by_priority(conn, 1)\n",
    "        \n",
    "        print(\"2. Query all tasks\")\n",
    "        select_all_tasks(conn)\n",
    "\n",
    "\n",
    "if _name_ == '_main_':\n",
    "    main()"
   ]
  }
 ],
 "metadata": {
  "kernelspec": {
   "display_name": "Python 3",
   "language": "python",
   "name": "python3"
  },
  "language_info": {
   "codemirror_mode": {
    "name": "ipython",
    "version": 3
   },
   "file_extension": ".py",
   "mimetype": "text/x-python",
   "name": "python",
   "nbconvert_exporter": "python",
   "pygments_lexer": "ipython3",
   "version": "3.8.8"
  }
 },
 "nbformat": 4,
 "nbformat_minor": 5
}
